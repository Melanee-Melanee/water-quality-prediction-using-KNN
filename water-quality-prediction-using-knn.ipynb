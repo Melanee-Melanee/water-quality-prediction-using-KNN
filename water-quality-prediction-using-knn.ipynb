{
 "cells": [
  {
   "cell_type": "markdown",
   "id": "8634cc17",
   "metadata": {
    "papermill": {
     "duration": 0.014192,
     "end_time": "2022-11-03T07:48:48.250857",
     "exception": false,
     "start_time": "2022-11-03T07:48:48.236665",
     "status": "completed"
    },
    "tags": []
   },
   "source": [
    "# IMPORTING LIBRARIES"
   ]
  },
  {
   "cell_type": "code",
   "execution_count": 1,
   "id": "700d95ae",
   "metadata": {
    "execution": {
     "iopub.execute_input": "2022-11-03T07:48:48.277997Z",
     "iopub.status.busy": "2022-11-03T07:48:48.277548Z",
     "iopub.status.idle": "2022-11-03T07:48:50.957322Z",
     "shell.execute_reply": "2022-11-03T07:48:50.956156Z"
    },
    "papermill": {
     "duration": 2.697054,
     "end_time": "2022-11-03T07:48:50.960322",
     "exception": false,
     "start_time": "2022-11-03T07:48:48.263268",
     "status": "completed"
    },
    "tags": []
   },
   "outputs": [],
   "source": [
    "# Importing libraries \n",
    "import numpy as np\n",
    "import pandas as pd\n",
    "import matplotlib.pyplot as plt\n",
    "import seaborn as sns\n",
    "plt.style.use('seaborn')\n",
    "import plotly.express as px\n",
    "from sklearn.neighbors import KNeighborsClassifier\n",
    "from sklearn.model_selection import train_test_split\n",
    "from sklearn import metrics"
   ]
  },
  {
   "cell_type": "markdown",
   "id": "8e89a81c",
   "metadata": {
    "papermill": {
     "duration": 0.011823,
     "end_time": "2022-11-03T07:48:50.986532",
     "exception": false,
     "start_time": "2022-11-03T07:48:50.974709",
     "status": "completed"
    },
    "tags": []
   },
   "source": [
    "# LOADING DATASET"
   ]
  },
  {
   "cell_type": "code",
   "execution_count": 2,
   "id": "3d3b97e8",
   "metadata": {
    "execution": {
     "iopub.execute_input": "2022-11-03T07:48:51.013292Z",
     "iopub.status.busy": "2022-11-03T07:48:51.012169Z",
     "iopub.status.idle": "2022-11-03T07:48:51.173511Z",
     "shell.execute_reply": "2022-11-03T07:48:51.171856Z"
    },
    "papermill": {
     "duration": 0.176988,
     "end_time": "2022-11-03T07:48:51.175722",
     "exception": true,
     "start_time": "2022-11-03T07:48:50.998734",
     "status": "failed"
    },
    "tags": []
   },
   "outputs": [
    {
     "ename": "FileNotFoundError",
     "evalue": "[Errno 2] No such file or directory: '../input/water-quality/water_potability.csv'",
     "output_type": "error",
     "traceback": [
      "\u001b[0;31m---------------------------------------------------------------------------\u001b[0m",
      "\u001b[0;31mFileNotFoundError\u001b[0m                         Traceback (most recent call last)",
      "\u001b[0;32m/tmp/ipykernel_19/3288941341.py\u001b[0m in \u001b[0;36m<module>\u001b[0;34m\u001b[0m\n\u001b[1;32m      1\u001b[0m \u001b[0;31m# Making data frame from csv\u001b[0m\u001b[0;34m\u001b[0m\u001b[0;34m\u001b[0m\u001b[0;34m\u001b[0m\u001b[0m\n\u001b[0;32m----> 2\u001b[0;31m \u001b[0mData\u001b[0m \u001b[0;34m=\u001b[0m \u001b[0mpd\u001b[0m\u001b[0;34m.\u001b[0m\u001b[0mread_csv\u001b[0m\u001b[0;34m(\u001b[0m\u001b[0;34m'../input/water-quality/water_potability.csv'\u001b[0m\u001b[0;34m)\u001b[0m\u001b[0;34m\u001b[0m\u001b[0;34m\u001b[0m\u001b[0m\n\u001b[0m\u001b[1;32m      3\u001b[0m \u001b[0mdf\u001b[0m\u001b[0;34m=\u001b[0m \u001b[0mpd\u001b[0m\u001b[0;34m.\u001b[0m\u001b[0mDataFrame\u001b[0m\u001b[0;34m(\u001b[0m\u001b[0mData\u001b[0m\u001b[0;34m)\u001b[0m\u001b[0;34m\u001b[0m\u001b[0;34m\u001b[0m\u001b[0m\n\u001b[1;32m      4\u001b[0m \u001b[0mdf\u001b[0m\u001b[0;34m\u001b[0m\u001b[0;34m\u001b[0m\u001b[0m\n",
      "\u001b[0;32m/opt/conda/lib/python3.7/site-packages/pandas/util/_decorators.py\u001b[0m in \u001b[0;36mwrapper\u001b[0;34m(*args, **kwargs)\u001b[0m\n\u001b[1;32m    309\u001b[0m                     \u001b[0mstacklevel\u001b[0m\u001b[0;34m=\u001b[0m\u001b[0mstacklevel\u001b[0m\u001b[0;34m,\u001b[0m\u001b[0;34m\u001b[0m\u001b[0;34m\u001b[0m\u001b[0m\n\u001b[1;32m    310\u001b[0m                 )\n\u001b[0;32m--> 311\u001b[0;31m             \u001b[0;32mreturn\u001b[0m \u001b[0mfunc\u001b[0m\u001b[0;34m(\u001b[0m\u001b[0;34m*\u001b[0m\u001b[0margs\u001b[0m\u001b[0;34m,\u001b[0m \u001b[0;34m**\u001b[0m\u001b[0mkwargs\u001b[0m\u001b[0;34m)\u001b[0m\u001b[0;34m\u001b[0m\u001b[0;34m\u001b[0m\u001b[0m\n\u001b[0m\u001b[1;32m    312\u001b[0m \u001b[0;34m\u001b[0m\u001b[0m\n\u001b[1;32m    313\u001b[0m         \u001b[0;32mreturn\u001b[0m \u001b[0mwrapper\u001b[0m\u001b[0;34m\u001b[0m\u001b[0;34m\u001b[0m\u001b[0m\n",
      "\u001b[0;32m/opt/conda/lib/python3.7/site-packages/pandas/io/parsers/readers.py\u001b[0m in \u001b[0;36mread_csv\u001b[0;34m(filepath_or_buffer, sep, delimiter, header, names, index_col, usecols, squeeze, prefix, mangle_dupe_cols, dtype, engine, converters, true_values, false_values, skipinitialspace, skiprows, skipfooter, nrows, na_values, keep_default_na, na_filter, verbose, skip_blank_lines, parse_dates, infer_datetime_format, keep_date_col, date_parser, dayfirst, cache_dates, iterator, chunksize, compression, thousands, decimal, lineterminator, quotechar, quoting, doublequote, escapechar, comment, encoding, encoding_errors, dialect, error_bad_lines, warn_bad_lines, on_bad_lines, delim_whitespace, low_memory, memory_map, float_precision, storage_options)\u001b[0m\n\u001b[1;32m    584\u001b[0m     \u001b[0mkwds\u001b[0m\u001b[0;34m.\u001b[0m\u001b[0mupdate\u001b[0m\u001b[0;34m(\u001b[0m\u001b[0mkwds_defaults\u001b[0m\u001b[0;34m)\u001b[0m\u001b[0;34m\u001b[0m\u001b[0;34m\u001b[0m\u001b[0m\n\u001b[1;32m    585\u001b[0m \u001b[0;34m\u001b[0m\u001b[0m\n\u001b[0;32m--> 586\u001b[0;31m     \u001b[0;32mreturn\u001b[0m \u001b[0m_read\u001b[0m\u001b[0;34m(\u001b[0m\u001b[0mfilepath_or_buffer\u001b[0m\u001b[0;34m,\u001b[0m \u001b[0mkwds\u001b[0m\u001b[0;34m)\u001b[0m\u001b[0;34m\u001b[0m\u001b[0;34m\u001b[0m\u001b[0m\n\u001b[0m\u001b[1;32m    587\u001b[0m \u001b[0;34m\u001b[0m\u001b[0m\n\u001b[1;32m    588\u001b[0m \u001b[0;34m\u001b[0m\u001b[0m\n",
      "\u001b[0;32m/opt/conda/lib/python3.7/site-packages/pandas/io/parsers/readers.py\u001b[0m in \u001b[0;36m_read\u001b[0;34m(filepath_or_buffer, kwds)\u001b[0m\n\u001b[1;32m    480\u001b[0m \u001b[0;34m\u001b[0m\u001b[0m\n\u001b[1;32m    481\u001b[0m     \u001b[0;31m# Create the parser.\u001b[0m\u001b[0;34m\u001b[0m\u001b[0;34m\u001b[0m\u001b[0;34m\u001b[0m\u001b[0m\n\u001b[0;32m--> 482\u001b[0;31m     \u001b[0mparser\u001b[0m \u001b[0;34m=\u001b[0m \u001b[0mTextFileReader\u001b[0m\u001b[0;34m(\u001b[0m\u001b[0mfilepath_or_buffer\u001b[0m\u001b[0;34m,\u001b[0m \u001b[0;34m**\u001b[0m\u001b[0mkwds\u001b[0m\u001b[0;34m)\u001b[0m\u001b[0;34m\u001b[0m\u001b[0;34m\u001b[0m\u001b[0m\n\u001b[0m\u001b[1;32m    483\u001b[0m \u001b[0;34m\u001b[0m\u001b[0m\n\u001b[1;32m    484\u001b[0m     \u001b[0;32mif\u001b[0m \u001b[0mchunksize\u001b[0m \u001b[0;32mor\u001b[0m \u001b[0miterator\u001b[0m\u001b[0;34m:\u001b[0m\u001b[0;34m\u001b[0m\u001b[0;34m\u001b[0m\u001b[0m\n",
      "\u001b[0;32m/opt/conda/lib/python3.7/site-packages/pandas/io/parsers/readers.py\u001b[0m in \u001b[0;36m__init__\u001b[0;34m(self, f, engine, **kwds)\u001b[0m\n\u001b[1;32m    809\u001b[0m             \u001b[0mself\u001b[0m\u001b[0;34m.\u001b[0m\u001b[0moptions\u001b[0m\u001b[0;34m[\u001b[0m\u001b[0;34m\"has_index_names\"\u001b[0m\u001b[0;34m]\u001b[0m \u001b[0;34m=\u001b[0m \u001b[0mkwds\u001b[0m\u001b[0;34m[\u001b[0m\u001b[0;34m\"has_index_names\"\u001b[0m\u001b[0;34m]\u001b[0m\u001b[0;34m\u001b[0m\u001b[0;34m\u001b[0m\u001b[0m\n\u001b[1;32m    810\u001b[0m \u001b[0;34m\u001b[0m\u001b[0m\n\u001b[0;32m--> 811\u001b[0;31m         \u001b[0mself\u001b[0m\u001b[0;34m.\u001b[0m\u001b[0m_engine\u001b[0m \u001b[0;34m=\u001b[0m \u001b[0mself\u001b[0m\u001b[0;34m.\u001b[0m\u001b[0m_make_engine\u001b[0m\u001b[0;34m(\u001b[0m\u001b[0mself\u001b[0m\u001b[0;34m.\u001b[0m\u001b[0mengine\u001b[0m\u001b[0;34m)\u001b[0m\u001b[0;34m\u001b[0m\u001b[0;34m\u001b[0m\u001b[0m\n\u001b[0m\u001b[1;32m    812\u001b[0m \u001b[0;34m\u001b[0m\u001b[0m\n\u001b[1;32m    813\u001b[0m     \u001b[0;32mdef\u001b[0m \u001b[0mclose\u001b[0m\u001b[0;34m(\u001b[0m\u001b[0mself\u001b[0m\u001b[0;34m)\u001b[0m\u001b[0;34m:\u001b[0m\u001b[0;34m\u001b[0m\u001b[0;34m\u001b[0m\u001b[0m\n",
      "\u001b[0;32m/opt/conda/lib/python3.7/site-packages/pandas/io/parsers/readers.py\u001b[0m in \u001b[0;36m_make_engine\u001b[0;34m(self, engine)\u001b[0m\n\u001b[1;32m   1038\u001b[0m             )\n\u001b[1;32m   1039\u001b[0m         \u001b[0;31m# error: Too many arguments for \"ParserBase\"\u001b[0m\u001b[0;34m\u001b[0m\u001b[0;34m\u001b[0m\u001b[0;34m\u001b[0m\u001b[0m\n\u001b[0;32m-> 1040\u001b[0;31m         \u001b[0;32mreturn\u001b[0m \u001b[0mmapping\u001b[0m\u001b[0;34m[\u001b[0m\u001b[0mengine\u001b[0m\u001b[0;34m]\u001b[0m\u001b[0;34m(\u001b[0m\u001b[0mself\u001b[0m\u001b[0;34m.\u001b[0m\u001b[0mf\u001b[0m\u001b[0;34m,\u001b[0m \u001b[0;34m**\u001b[0m\u001b[0mself\u001b[0m\u001b[0;34m.\u001b[0m\u001b[0moptions\u001b[0m\u001b[0;34m)\u001b[0m  \u001b[0;31m# type: ignore[call-arg]\u001b[0m\u001b[0;34m\u001b[0m\u001b[0;34m\u001b[0m\u001b[0m\n\u001b[0m\u001b[1;32m   1041\u001b[0m \u001b[0;34m\u001b[0m\u001b[0m\n\u001b[1;32m   1042\u001b[0m     \u001b[0;32mdef\u001b[0m \u001b[0m_failover_to_python\u001b[0m\u001b[0;34m(\u001b[0m\u001b[0mself\u001b[0m\u001b[0;34m)\u001b[0m\u001b[0;34m:\u001b[0m\u001b[0;34m\u001b[0m\u001b[0;34m\u001b[0m\u001b[0m\n",
      "\u001b[0;32m/opt/conda/lib/python3.7/site-packages/pandas/io/parsers/c_parser_wrapper.py\u001b[0m in \u001b[0;36m__init__\u001b[0;34m(self, src, **kwds)\u001b[0m\n\u001b[1;32m     49\u001b[0m \u001b[0;34m\u001b[0m\u001b[0m\n\u001b[1;32m     50\u001b[0m         \u001b[0;31m# open handles\u001b[0m\u001b[0;34m\u001b[0m\u001b[0;34m\u001b[0m\u001b[0;34m\u001b[0m\u001b[0m\n\u001b[0;32m---> 51\u001b[0;31m         \u001b[0mself\u001b[0m\u001b[0;34m.\u001b[0m\u001b[0m_open_handles\u001b[0m\u001b[0;34m(\u001b[0m\u001b[0msrc\u001b[0m\u001b[0;34m,\u001b[0m \u001b[0mkwds\u001b[0m\u001b[0;34m)\u001b[0m\u001b[0;34m\u001b[0m\u001b[0;34m\u001b[0m\u001b[0m\n\u001b[0m\u001b[1;32m     52\u001b[0m         \u001b[0;32massert\u001b[0m \u001b[0mself\u001b[0m\u001b[0;34m.\u001b[0m\u001b[0mhandles\u001b[0m \u001b[0;32mis\u001b[0m \u001b[0;32mnot\u001b[0m \u001b[0;32mNone\u001b[0m\u001b[0;34m\u001b[0m\u001b[0;34m\u001b[0m\u001b[0m\n\u001b[1;32m     53\u001b[0m \u001b[0;34m\u001b[0m\u001b[0m\n",
      "\u001b[0;32m/opt/conda/lib/python3.7/site-packages/pandas/io/parsers/base_parser.py\u001b[0m in \u001b[0;36m_open_handles\u001b[0;34m(self, src, kwds)\u001b[0m\n\u001b[1;32m    227\u001b[0m             \u001b[0mmemory_map\u001b[0m\u001b[0;34m=\u001b[0m\u001b[0mkwds\u001b[0m\u001b[0;34m.\u001b[0m\u001b[0mget\u001b[0m\u001b[0;34m(\u001b[0m\u001b[0;34m\"memory_map\"\u001b[0m\u001b[0;34m,\u001b[0m \u001b[0;32mFalse\u001b[0m\u001b[0;34m)\u001b[0m\u001b[0;34m,\u001b[0m\u001b[0;34m\u001b[0m\u001b[0;34m\u001b[0m\u001b[0m\n\u001b[1;32m    228\u001b[0m             \u001b[0mstorage_options\u001b[0m\u001b[0;34m=\u001b[0m\u001b[0mkwds\u001b[0m\u001b[0;34m.\u001b[0m\u001b[0mget\u001b[0m\u001b[0;34m(\u001b[0m\u001b[0;34m\"storage_options\"\u001b[0m\u001b[0;34m,\u001b[0m \u001b[0;32mNone\u001b[0m\u001b[0;34m)\u001b[0m\u001b[0;34m,\u001b[0m\u001b[0;34m\u001b[0m\u001b[0;34m\u001b[0m\u001b[0m\n\u001b[0;32m--> 229\u001b[0;31m             \u001b[0merrors\u001b[0m\u001b[0;34m=\u001b[0m\u001b[0mkwds\u001b[0m\u001b[0;34m.\u001b[0m\u001b[0mget\u001b[0m\u001b[0;34m(\u001b[0m\u001b[0;34m\"encoding_errors\"\u001b[0m\u001b[0;34m,\u001b[0m \u001b[0;34m\"strict\"\u001b[0m\u001b[0;34m)\u001b[0m\u001b[0;34m,\u001b[0m\u001b[0;34m\u001b[0m\u001b[0;34m\u001b[0m\u001b[0m\n\u001b[0m\u001b[1;32m    230\u001b[0m         )\n\u001b[1;32m    231\u001b[0m \u001b[0;34m\u001b[0m\u001b[0m\n",
      "\u001b[0;32m/opt/conda/lib/python3.7/site-packages/pandas/io/common.py\u001b[0m in \u001b[0;36mget_handle\u001b[0;34m(path_or_buf, mode, encoding, compression, memory_map, is_text, errors, storage_options)\u001b[0m\n\u001b[1;32m    705\u001b[0m                 \u001b[0mencoding\u001b[0m\u001b[0;34m=\u001b[0m\u001b[0mioargs\u001b[0m\u001b[0;34m.\u001b[0m\u001b[0mencoding\u001b[0m\u001b[0;34m,\u001b[0m\u001b[0;34m\u001b[0m\u001b[0;34m\u001b[0m\u001b[0m\n\u001b[1;32m    706\u001b[0m                 \u001b[0merrors\u001b[0m\u001b[0;34m=\u001b[0m\u001b[0merrors\u001b[0m\u001b[0;34m,\u001b[0m\u001b[0;34m\u001b[0m\u001b[0;34m\u001b[0m\u001b[0m\n\u001b[0;32m--> 707\u001b[0;31m                 \u001b[0mnewline\u001b[0m\u001b[0;34m=\u001b[0m\u001b[0;34m\"\"\u001b[0m\u001b[0;34m,\u001b[0m\u001b[0;34m\u001b[0m\u001b[0;34m\u001b[0m\u001b[0m\n\u001b[0m\u001b[1;32m    708\u001b[0m             )\n\u001b[1;32m    709\u001b[0m         \u001b[0;32melse\u001b[0m\u001b[0;34m:\u001b[0m\u001b[0;34m\u001b[0m\u001b[0;34m\u001b[0m\u001b[0m\n",
      "\u001b[0;31mFileNotFoundError\u001b[0m: [Errno 2] No such file or directory: '../input/water-quality/water_potability.csv'"
     ]
    }
   ],
   "source": [
    "# Making data frame from csv\n",
    "Data = pd.read_csv('../input/water-quality/water_potability.csv')\n",
    "df= pd.DataFrame(Data)\n",
    "df"
   ]
  },
  {
   "cell_type": "code",
   "execution_count": null,
   "id": "6617bf77",
   "metadata": {
    "execution": {
     "iopub.execute_input": "2022-09-17T20:05:45.654956Z",
     "iopub.status.busy": "2022-09-17T20:05:45.654624Z",
     "iopub.status.idle": "2022-09-17T20:05:45.662Z",
     "shell.execute_reply": "2022-09-17T20:05:45.660872Z",
     "shell.execute_reply.started": "2022-09-17T20:05:45.654923Z"
    },
    "papermill": {
     "duration": null,
     "end_time": null,
     "exception": null,
     "start_time": null,
     "status": "pending"
    },
    "tags": []
   },
   "outputs": [],
   "source": [
    "df.columns"
   ]
  },
  {
   "cell_type": "markdown",
   "id": "18951506",
   "metadata": {
    "papermill": {
     "duration": null,
     "end_time": null,
     "exception": null,
     "start_time": null,
     "status": "pending"
    },
    "tags": []
   },
   "source": [
    "\n",
    "> <font color='red'> **Dataset features:** <font>\n",
    "  *   ph: PH is the indicator of acidic or alkaline condition of water status. WHO has recommended a maximum permissible limit of pH from 6.5 to 8.5. \n",
    "    \n",
    "  *   Hardness: Hardness is mainly caused by calcium and magnesium salts. These salts are dissolved from geologic deposits through which water travels. The length of time water is in contact with hardness producing material helps determine how much hardness there is in raw water. Hardness was originally defined as the capacity of water to precipitate soap caused by Calcium and Magnesium.\n",
    "    \n",
    "  *   Solids:  Water has the ability to dissolve a wide range of inorganic and some organic minerals or salts such as potassium, calcium, sodium, bicarbonates, chlorides, magnesium, sulfates etc. These minerals produced an unwanted taste and diluted color in the appearance of water. This is the important parameter for the use of water. The water with high TDS value indicates that water is highly mineralized. The Desired limit for TDS is 500 mg/l and maximum limit is 1000 mg/l which is prescribed for drinking purposes.\n",
    "    \n",
    "  *   Chloramines: Chlorine and chloramine are the major disinfectants used in public water systems. Chloramines are most commonly formed when ammonia is added to chlorine to treat drinking water. Chlorine levels up to 4 milligrams per liter (mg/L or 4 parts per million (ppm)) are considered safe in drinking water.\n",
    "    \n",
    "  *    Sulfate: Sulfates are naturally occurring substances that are found in minerals, soil, and rocks. They are present in ambient air, groundwater, plants, and food. The principal commercial use of sulfate is in the chemical industry. Sulfate concentration in seawater is about 2,700 milligrams per liter (mg/L). It ranges from 3 to 30 mg/L in most freshwater supplies, although much higher concentrations (1000 mg/L) are found in some geographic locations. \n",
    "    \n",
    "  *   Conductivity: Pure water is not a good conductor of electric current rather it's a good insulator. Increase in ions concentration enhances the electrical conductivity of water. Generally, the amount of dissolved solids in water determines the electrical conductivity. Electrical conductivity (EC) actually measures the ionic process of a solution that enables it to transmit current. According to WHO standards, EC value should not exceed 400 μS/cm.\n",
    "    \n",
    "  *   Organic_carbon: Total Organic Carbon (TOC) in source waters comes from decaying natural organic matter (NOM) as well as synthetic sources. TOC is a measure of the total amount of carbon in organic compounds in pure water. According to the US EPA < 2 mg/L as TOC in treated / drinking water, and < 4 mg/Lit in source water which is used for treatment.\n",
    "     \n",
    "  * Trihalomethanes: THMs are chemicals which may be found in water treated with chlorine. The concentration of THMs in drinking water varies according to the level of organic material in the water, the amount of chlorine required to treat the water, and the temperature of the water that is being treated. THM levels up to 80 ppm is considered safe in drinking water.\n",
    "    \n",
    "  * Turbidity: The turbidity of water depends on the quantity of solid matter present in the suspended state. It is a measure of light emitting properties of water and the test is used to indicate the quality of waste discharge with respect to colloidal matter. The mean turbidity value obtained for Wondo Genet Campus (0.98 NTU) is lower than the WHO recommended value of 5.00 NTU.\n",
    "    \n",
    "  * Potability (Target): Indicates if water is safe for human consumption where 1 means Potable and 0 means Not potable. (0) Water is not safe to drink and (1) Water is safe to drink."
   ]
  },
  {
   "cell_type": "markdown",
   "id": "fec34ab6",
   "metadata": {
    "papermill": {
     "duration": null,
     "end_time": null,
     "exception": null,
     "start_time": null,
     "status": "pending"
    },
    "tags": []
   },
   "source": [
    "# <font color = 'black'>EDA <font>  <font color = 'black'> <font color = 'red'>AND<font color = 'black'> PREPROCESSING <font>"
   ]
  },
  {
   "cell_type": "code",
   "execution_count": null,
   "id": "350fa584",
   "metadata": {
    "execution": {
     "iopub.execute_input": "2022-09-17T20:05:45.664339Z",
     "iopub.status.busy": "2022-09-17T20:05:45.663689Z",
     "iopub.status.idle": "2022-09-17T20:05:45.68959Z",
     "shell.execute_reply": "2022-09-17T20:05:45.688439Z",
     "shell.execute_reply.started": "2022-09-17T20:05:45.664301Z"
    },
    "papermill": {
     "duration": null,
     "end_time": null,
     "exception": null,
     "start_time": null,
     "status": "pending"
    },
    "tags": []
   },
   "outputs": [],
   "source": [
    "df.info()"
   ]
  },
  {
   "cell_type": "code",
   "execution_count": null,
   "id": "5ef63c75",
   "metadata": {
    "execution": {
     "iopub.execute_input": "2022-09-17T20:05:45.692192Z",
     "iopub.status.busy": "2022-09-17T20:05:45.691705Z",
     "iopub.status.idle": "2022-09-17T20:05:45.736765Z",
     "shell.execute_reply": "2022-09-17T20:05:45.735556Z",
     "shell.execute_reply.started": "2022-09-17T20:05:45.692161Z"
    },
    "papermill": {
     "duration": null,
     "end_time": null,
     "exception": null,
     "start_time": null,
     "status": "pending"
    },
    "tags": []
   },
   "outputs": [],
   "source": [
    "df.describe()"
   ]
  },
  {
   "cell_type": "code",
   "execution_count": null,
   "id": "c7892596",
   "metadata": {
    "execution": {
     "iopub.execute_input": "2022-09-17T20:05:45.738451Z",
     "iopub.status.busy": "2022-09-17T20:05:45.738038Z",
     "iopub.status.idle": "2022-09-17T20:05:45.745607Z",
     "shell.execute_reply": "2022-09-17T20:05:45.744809Z",
     "shell.execute_reply.started": "2022-09-17T20:05:45.738422Z"
    },
    "papermill": {
     "duration": null,
     "end_time": null,
     "exception": null,
     "start_time": null,
     "status": "pending"
    },
    "tags": []
   },
   "outputs": [],
   "source": [
    "df['Potability'].value_counts()"
   ]
  },
  {
   "cell_type": "markdown",
   "id": "bf8ea30a",
   "metadata": {
    "papermill": {
     "duration": null,
     "end_time": null,
     "exception": null,
     "start_time": null,
     "status": "pending"
    },
    "tags": []
   },
   "source": [
    " # Multivariate Analysis: Using Pairplots"
   ]
  },
  {
   "cell_type": "code",
   "execution_count": null,
   "id": "515444d1",
   "metadata": {
    "execution": {
     "iopub.execute_input": "2022-09-17T20:05:45.747225Z",
     "iopub.status.busy": "2022-09-17T20:05:45.746743Z",
     "iopub.status.idle": "2022-09-17T20:06:17.809674Z",
     "shell.execute_reply": "2022-09-17T20:06:17.808247Z",
     "shell.execute_reply.started": "2022-09-17T20:05:45.747195Z"
    },
    "papermill": {
     "duration": null,
     "end_time": null,
     "exception": null,
     "start_time": null,
     "status": "pending"
    },
    "tags": []
   },
   "outputs": [],
   "source": [
    "sns.pairplot(df, hue=\"Potability\", palette=\"husl\",diag_kind=\"kde\")\n",
    "plt.show()"
   ]
  },
  {
   "cell_type": "code",
   "execution_count": null,
   "id": "1e7d9973",
   "metadata": {
    "execution": {
     "iopub.execute_input": "2022-09-17T20:06:17.811658Z",
     "iopub.status.busy": "2022-09-17T20:06:17.811147Z",
     "iopub.status.idle": "2022-09-17T20:06:17.819576Z",
     "shell.execute_reply": "2022-09-17T20:06:17.818592Z",
     "shell.execute_reply.started": "2022-09-17T20:06:17.811607Z"
    },
    "papermill": {
     "duration": null,
     "end_time": null,
     "exception": null,
     "start_time": null,
     "status": "pending"
    },
    "tags": []
   },
   "outputs": [],
   "source": [
    "df.shape"
   ]
  },
  {
   "cell_type": "code",
   "execution_count": null,
   "id": "c2751854",
   "metadata": {
    "execution": {
     "iopub.execute_input": "2022-09-17T20:06:17.821987Z",
     "iopub.status.busy": "2022-09-17T20:06:17.821021Z",
     "iopub.status.idle": "2022-09-17T20:06:17.832799Z",
     "shell.execute_reply": "2022-09-17T20:06:17.831563Z",
     "shell.execute_reply.started": "2022-09-17T20:06:17.82194Z"
    },
    "papermill": {
     "duration": null,
     "end_time": null,
     "exception": null,
     "start_time": null,
     "status": "pending"
    },
    "tags": []
   },
   "outputs": [],
   "source": [
    "df.isnull().sum()"
   ]
  },
  {
   "cell_type": "markdown",
   "id": "1e6f4327",
   "metadata": {
    "papermill": {
     "duration": null,
     "end_time": null,
     "exception": null,
     "start_time": null,
     "status": "pending"
    },
    "tags": []
   },
   "source": [
    "# Correlation"
   ]
  },
  {
   "cell_type": "code",
   "execution_count": null,
   "id": "c197fced",
   "metadata": {
    "execution": {
     "iopub.execute_input": "2022-09-17T20:06:17.835552Z",
     "iopub.status.busy": "2022-09-17T20:06:17.834488Z",
     "iopub.status.idle": "2022-09-17T20:06:18.189644Z",
     "shell.execute_reply": "2022-09-17T20:06:18.18864Z",
     "shell.execute_reply.started": "2022-09-17T20:06:17.835496Z"
    },
    "papermill": {
     "duration": null,
     "end_time": null,
     "exception": null,
     "start_time": null,
     "status": "pending"
    },
    "tags": []
   },
   "outputs": [],
   "source": [
    "plt.figure(figsize=(6, 6))\n",
    "heatmap = sns.heatmap(df.corr()[['Potability']].sort_values(by='Potability', ascending=False), vmin=-1, vmax=1, annot=True)\n",
    "heatmap.set_title('Features Correlating with Potability', fontdict={'fontsize':18}, pad=16)"
   ]
  },
  {
   "cell_type": "code",
   "execution_count": null,
   "id": "767f1bdb",
   "metadata": {
    "execution": {
     "iopub.execute_input": "2022-09-17T20:06:18.195711Z",
     "iopub.status.busy": "2022-09-17T20:06:18.194622Z",
     "iopub.status.idle": "2022-09-17T20:06:18.854388Z",
     "shell.execute_reply": "2022-09-17T20:06:18.852862Z",
     "shell.execute_reply.started": "2022-09-17T20:06:18.195658Z"
    },
    "papermill": {
     "duration": null,
     "end_time": null,
     "exception": null,
     "start_time": null,
     "status": "pending"
    },
    "tags": []
   },
   "outputs": [],
   "source": [
    "corr = df.corr()\n",
    "# Generate a mask for the upper triangle\n",
    "mask = np.zeros_like(corr)\n",
    "mask[np.triu_indices_from(mask)] = True\n",
    "\n",
    "# Generate a custom diverging colormap\n",
    "cmap = sns.diverging_palette(220, 10, as_cmap=True)\n",
    "\n",
    "with sns.axes_style(\"white\"):\n",
    "    # Set up the matplotlib figure\n",
    "    f, ax = plt.subplots(figsize=(10, 8))\n",
    "    ax = sns.heatmap(corr, mask=mask, vmax=.3, square=True, linewidths=.5, cbar_kws={\"shrink\": .5}, annot=True)"
   ]
  },
  {
   "cell_type": "markdown",
   "id": "4474a616",
   "metadata": {
    "papermill": {
     "duration": null,
     "end_time": null,
     "exception": null,
     "start_time": null,
     "status": "pending"
    },
    "tags": []
   },
   "source": [
    "### We handle the missing values, we fill the missing values in our feachers using a mean value of each feature."
   ]
  },
  {
   "cell_type": "code",
   "execution_count": null,
   "id": "907f6f8d",
   "metadata": {
    "execution": {
     "iopub.execute_input": "2022-09-17T20:06:18.856821Z",
     "iopub.status.busy": "2022-09-17T20:06:18.85611Z",
     "iopub.status.idle": "2022-09-17T20:06:18.880489Z",
     "shell.execute_reply": "2022-09-17T20:06:18.879278Z",
     "shell.execute_reply.started": "2022-09-17T20:06:18.856782Z"
    },
    "papermill": {
     "duration": null,
     "end_time": null,
     "exception": null,
     "start_time": null,
     "status": "pending"
    },
    "tags": []
   },
   "outputs": [],
   "source": [
    "df.fillna(df.mean(), inplace = True)\n",
    "df"
   ]
  },
  {
   "cell_type": "code",
   "execution_count": null,
   "id": "797cb37c",
   "metadata": {
    "execution": {
     "iopub.execute_input": "2022-09-17T20:06:18.882796Z",
     "iopub.status.busy": "2022-09-17T20:06:18.882327Z",
     "iopub.status.idle": "2022-09-17T20:06:18.893587Z",
     "shell.execute_reply": "2022-09-17T20:06:18.892248Z",
     "shell.execute_reply.started": "2022-09-17T20:06:18.882751Z"
    },
    "papermill": {
     "duration": null,
     "end_time": null,
     "exception": null,
     "start_time": null,
     "status": "pending"
    },
    "tags": []
   },
   "outputs": [],
   "source": [
    "df.isnull().sum()"
   ]
  },
  {
   "cell_type": "markdown",
   "id": "44bacfb6",
   "metadata": {
    "papermill": {
     "duration": null,
     "end_time": null,
     "exception": null,
     "start_time": null,
     "status": "pending"
    },
    "tags": []
   },
   "source": [
    "# Data visualization"
   ]
  },
  {
   "cell_type": "code",
   "execution_count": null,
   "id": "29d4df3e",
   "metadata": {
    "execution": {
     "iopub.execute_input": "2022-09-17T20:06:18.895737Z",
     "iopub.status.busy": "2022-09-17T20:06:18.895373Z",
     "iopub.status.idle": "2022-09-17T20:06:19.102297Z",
     "shell.execute_reply": "2022-09-17T20:06:19.101117Z",
     "shell.execute_reply.started": "2022-09-17T20:06:18.895704Z"
    },
    "papermill": {
     "duration": null,
     "end_time": null,
     "exception": null,
     "start_time": null,
     "status": "pending"
    },
    "tags": []
   },
   "outputs": [],
   "source": [
    "plt.figure(figsize=(6, 4))\n",
    "ax = sns.countplot(x = df['Potability'], data = df)\n",
    "plt.title(\"Distribution of Unsafe and Safe Water\")\n",
    "# show count (+ annotate)\n",
    "for rect in ax.patches:\n",
    "    ax.text (rect.get_x() + rect.get_width()  / 2,rect.get_height()+ 0.7,rect.get_height(),horizontalalignment='center', fontsize = 15)       \n",
    "        \n",
    "plt.tight_layout()\n",
    "plt.show()"
   ]
  },
  {
   "cell_type": "code",
   "execution_count": null,
   "id": "15605b0b",
   "metadata": {
    "execution": {
     "iopub.execute_input": "2022-09-17T20:06:19.104382Z",
     "iopub.status.busy": "2022-09-17T20:06:19.103816Z",
     "iopub.status.idle": "2022-09-17T20:06:19.112654Z",
     "shell.execute_reply": "2022-09-17T20:06:19.111778Z",
     "shell.execute_reply.started": "2022-09-17T20:06:19.10435Z"
    },
    "papermill": {
     "duration": null,
     "end_time": null,
     "exception": null,
     "start_time": null,
     "status": "pending"
    },
    "tags": []
   },
   "outputs": [],
   "source": [
    "df[\"Potability\"].value_counts(normalize=True)*100"
   ]
  },
  {
   "cell_type": "code",
   "execution_count": null,
   "id": "cfb7f8e5",
   "metadata": {
    "execution": {
     "iopub.execute_input": "2022-09-17T20:06:19.114477Z",
     "iopub.status.busy": "2022-09-17T20:06:19.11394Z",
     "iopub.status.idle": "2022-09-17T20:06:20.083462Z",
     "shell.execute_reply": "2022-09-17T20:06:20.082365Z",
     "shell.execute_reply.started": "2022-09-17T20:06:19.114446Z"
    },
    "papermill": {
     "duration": null,
     "end_time": null,
     "exception": null,
     "start_time": null,
     "status": "pending"
    },
    "tags": []
   },
   "outputs": [],
   "source": [
    "plt.figure(figsize=(6, 4))\n",
    "fig = px.pie(df, names=\"Potability\")\n",
    "fig.show()"
   ]
  },
  {
   "cell_type": "markdown",
   "id": "456b1571",
   "metadata": {
    "papermill": {
     "duration": null,
     "end_time": null,
     "exception": null,
     "start_time": null,
     "status": "pending"
    },
    "tags": []
   },
   "source": [
    "### The ph value of the water is an important factor in evaluating the acid-base balance of the water. The pH value of drinking water should be between 6.5 and 8.5."
   ]
  },
  {
   "cell_type": "code",
   "execution_count": null,
   "id": "2569c0a1",
   "metadata": {
    "execution": {
     "iopub.execute_input": "2022-09-17T20:06:20.085931Z",
     "iopub.status.busy": "2022-09-17T20:06:20.08543Z",
     "iopub.status.idle": "2022-09-17T20:06:20.189232Z",
     "shell.execute_reply": "2022-09-17T20:06:20.187904Z",
     "shell.execute_reply.started": "2022-09-17T20:06:20.085886Z"
    },
    "papermill": {
     "duration": null,
     "end_time": null,
     "exception": null,
     "start_time": null,
     "status": "pending"
    },
    "tags": []
   },
   "outputs": [],
   "source": [
    "figure = px.histogram(df, x = \"ph\", \n",
    "                      color = \"Potability\", \n",
    "                      title= \"Factors Affecting Water Quality: PH\")\n",
    "figure.show()"
   ]
  },
  {
   "cell_type": "markdown",
   "id": "6aa4914d",
   "metadata": {
    "papermill": {
     "duration": null,
     "end_time": null,
     "exception": null,
     "start_time": null,
     "status": "pending"
    },
    "tags": []
   },
   "source": [
    "### The hardness of water usually depends on its source, but water with a hardness of 120-200 milligrams is drinkable."
   ]
  },
  {
   "cell_type": "code",
   "execution_count": null,
   "id": "88630a3c",
   "metadata": {
    "execution": {
     "iopub.execute_input": "2022-09-17T20:06:20.191289Z",
     "iopub.status.busy": "2022-09-17T20:06:20.190949Z",
     "iopub.status.idle": "2022-09-17T20:06:20.257831Z",
     "shell.execute_reply": "2022-09-17T20:06:20.256711Z",
     "shell.execute_reply.started": "2022-09-17T20:06:20.191257Z"
    },
    "papermill": {
     "duration": null,
     "end_time": null,
     "exception": null,
     "start_time": null,
     "status": "pending"
    },
    "tags": []
   },
   "outputs": [],
   "source": [
    "figure = px.histogram(df, x = \"Hardness\", \n",
    "                      color = \"Potability\", \n",
    "                      title= \"Factors Affecting Water Quality: Hardness\")\n",
    "figure.show()"
   ]
  },
  {
   "cell_type": "markdown",
   "id": "24936faa",
   "metadata": {
    "papermill": {
     "duration": null,
     "end_time": null,
     "exception": null,
     "start_time": null,
     "status": "pending"
    },
    "tags": []
   },
   "source": [
    "###  All organic and inorganic minerals present in water are called dissolved solids. Water with a very high number of dissolved solids is highly mineralized."
   ]
  },
  {
   "cell_type": "code",
   "execution_count": null,
   "id": "f9ac9462",
   "metadata": {
    "execution": {
     "iopub.execute_input": "2022-09-17T20:06:20.259421Z",
     "iopub.status.busy": "2022-09-17T20:06:20.259076Z",
     "iopub.status.idle": "2022-09-17T20:06:20.326333Z",
     "shell.execute_reply": "2022-09-17T20:06:20.32524Z",
     "shell.execute_reply.started": "2022-09-17T20:06:20.259388Z"
    },
    "papermill": {
     "duration": null,
     "end_time": null,
     "exception": null,
     "start_time": null,
     "status": "pending"
    },
    "tags": []
   },
   "outputs": [],
   "source": [
    "figure = px.histogram(df, x = \"Solids\", \n",
    "                      color = \"Potability\", \n",
    "                      title= \"Factors Affecting Water Quality: Solids\")\n",
    "figure.show()"
   ]
  },
  {
   "cell_type": "markdown",
   "id": "e64d0f8e",
   "metadata": {
    "papermill": {
     "duration": null,
     "end_time": null,
     "exception": null,
     "start_time": null,
     "status": "pending"
    },
    "tags": []
   },
   "source": [
    "### Chloramine and chlorine are disinfectants used in public water systems."
   ]
  },
  {
   "cell_type": "code",
   "execution_count": null,
   "id": "4ca598f2",
   "metadata": {
    "execution": {
     "iopub.execute_input": "2022-09-17T20:06:20.328256Z",
     "iopub.status.busy": "2022-09-17T20:06:20.327916Z",
     "iopub.status.idle": "2022-09-17T20:06:20.394034Z",
     "shell.execute_reply": "2022-09-17T20:06:20.392994Z",
     "shell.execute_reply.started": "2022-09-17T20:06:20.328224Z"
    },
    "papermill": {
     "duration": null,
     "end_time": null,
     "exception": null,
     "start_time": null,
     "status": "pending"
    },
    "tags": []
   },
   "outputs": [],
   "source": [
    "figure = px.histogram(df, x = \"Chloramines\", \n",
    "                      color = \"Potability\", \n",
    "                      title= \"Factors Affecting Water Quality: Chloramines\")\n",
    "figure.show()"
   ]
  },
  {
   "cell_type": "markdown",
   "id": "7ba78730",
   "metadata": {
    "papermill": {
     "duration": null,
     "end_time": null,
     "exception": null,
     "start_time": null,
     "status": "pending"
    },
    "tags": []
   },
   "source": [
    "### Sulfate is a substance naturally present in minerals, soil, and rocks. Water containing less than 500 milligrams of sulfate is safe to drink."
   ]
  },
  {
   "cell_type": "code",
   "execution_count": null,
   "id": "0a0aaf94",
   "metadata": {
    "execution": {
     "iopub.execute_input": "2022-09-17T20:06:20.395848Z",
     "iopub.status.busy": "2022-09-17T20:06:20.395474Z",
     "iopub.status.idle": "2022-09-17T20:06:20.46234Z",
     "shell.execute_reply": "2022-09-17T20:06:20.461471Z",
     "shell.execute_reply.started": "2022-09-17T20:06:20.395814Z"
    },
    "papermill": {
     "duration": null,
     "end_time": null,
     "exception": null,
     "start_time": null,
     "status": "pending"
    },
    "tags": []
   },
   "outputs": [],
   "source": [
    "figure = px.histogram(df, x = \"Sulfate\", \n",
    "                      color = \"Potability\", \n",
    "                      title= \"Factors Affecting Water Quality: Sulfate\")\n",
    "figure.show()"
   ]
  },
  {
   "cell_type": "markdown",
   "id": "86ea6730",
   "metadata": {
    "papermill": {
     "duration": null,
     "end_time": null,
     "exception": null,
     "start_time": null,
     "status": "pending"
    },
    "tags": []
   },
   "source": [
    "### Water is a good conductor of electricity, but the purest form of water is not a good conductor of electricity. Water with an electrical conductivity of less than 500 is drinkable."
   ]
  },
  {
   "cell_type": "code",
   "execution_count": null,
   "id": "736f7d7b",
   "metadata": {
    "execution": {
     "iopub.execute_input": "2022-09-17T20:06:20.464345Z",
     "iopub.status.busy": "2022-09-17T20:06:20.463514Z",
     "iopub.status.idle": "2022-09-17T20:06:20.528154Z",
     "shell.execute_reply": "2022-09-17T20:06:20.526914Z",
     "shell.execute_reply.started": "2022-09-17T20:06:20.46431Z"
    },
    "papermill": {
     "duration": null,
     "end_time": null,
     "exception": null,
     "start_time": null,
     "status": "pending"
    },
    "tags": []
   },
   "outputs": [],
   "source": [
    "figure = px.histogram(df, x = \"Conductivity\", \n",
    "                      color = \"Potability\", \n",
    "                      title= \"Factors Affecting Water Quality: Conductivity\")\n",
    "figure.show()"
   ]
  },
  {
   "cell_type": "markdown",
   "id": "13bf611a",
   "metadata": {
    "papermill": {
     "duration": null,
     "end_time": null,
     "exception": null,
     "start_time": null,
     "status": "pending"
    },
    "tags": []
   },
   "source": [
    "### Organic carbon comes from the breakdown of natural organic materials and synthetic sources. Water containing less than 25 milligrams of organic carbon is considered safe to drink."
   ]
  },
  {
   "cell_type": "code",
   "execution_count": null,
   "id": "9a73d959",
   "metadata": {
    "execution": {
     "iopub.execute_input": "2022-09-17T20:06:20.530199Z",
     "iopub.status.busy": "2022-09-17T20:06:20.529838Z",
     "iopub.status.idle": "2022-09-17T20:06:20.594953Z",
     "shell.execute_reply": "2022-09-17T20:06:20.593674Z",
     "shell.execute_reply.started": "2022-09-17T20:06:20.530167Z"
    },
    "papermill": {
     "duration": null,
     "end_time": null,
     "exception": null,
     "start_time": null,
     "status": "pending"
    },
    "tags": []
   },
   "outputs": [],
   "source": [
    "figure = px.histogram(df, x = \"Organic_carbon\", \n",
    "                      color = \"Potability\", \n",
    "                      title= \"Factors Affecting Water Quality: Organic Carbon\")\n",
    "figure.show()"
   ]
  },
  {
   "cell_type": "markdown",
   "id": "d6b5ac9f",
   "metadata": {
    "papermill": {
     "duration": null,
     "end_time": null,
     "exception": null,
     "start_time": null,
     "status": "pending"
    },
    "tags": []
   },
   "source": [
    "### Trihalomethanes or THMs are chemicals found in chlorine-treated water. Water containing less than 80 milligrams of THMs is considered safe to drink."
   ]
  },
  {
   "cell_type": "code",
   "execution_count": null,
   "id": "4026024a",
   "metadata": {
    "execution": {
     "iopub.execute_input": "2022-09-17T20:06:20.597184Z",
     "iopub.status.busy": "2022-09-17T20:06:20.596298Z",
     "iopub.status.idle": "2022-09-17T20:06:20.661002Z",
     "shell.execute_reply": "2022-09-17T20:06:20.659863Z",
     "shell.execute_reply.started": "2022-09-17T20:06:20.597148Z"
    },
    "papermill": {
     "duration": null,
     "end_time": null,
     "exception": null,
     "start_time": null,
     "status": "pending"
    },
    "tags": []
   },
   "outputs": [],
   "source": [
    "figure = px.histogram(df, x = \"Trihalomethanes\", \n",
    "                      color = \"Potability\", \n",
    "                      title= \"Factors Affecting Water Quality: Trihalomethanes\")\n",
    "figure.show()"
   ]
  },
  {
   "cell_type": "markdown",
   "id": "a8214d5f",
   "metadata": {
    "papermill": {
     "duration": null,
     "end_time": null,
     "exception": null,
     "start_time": null,
     "status": "pending"
    },
    "tags": []
   },
   "source": [
    "### The turbidity of water depends on the number of solids present in suspension. Water with a turbidity of fewer than 5 milligrams is considered drinkable."
   ]
  },
  {
   "cell_type": "code",
   "execution_count": null,
   "id": "8c7e84ae",
   "metadata": {
    "execution": {
     "iopub.execute_input": "2022-09-17T20:07:34.799115Z",
     "iopub.status.busy": "2022-09-17T20:07:34.79861Z",
     "iopub.status.idle": "2022-09-17T20:07:34.874961Z",
     "shell.execute_reply": "2022-09-17T20:07:34.874048Z",
     "shell.execute_reply.started": "2022-09-17T20:07:34.799078Z"
    },
    "papermill": {
     "duration": null,
     "end_time": null,
     "exception": null,
     "start_time": null,
     "status": "pending"
    },
    "tags": []
   },
   "outputs": [],
   "source": [
    "figure = px.histogram(df, x = \"Turbidity\", \n",
    "                      color = \"Potability\", \n",
    "                      title= \"Factors Affecting Water Quality: Turbidity\")\n",
    "figure.show()"
   ]
  },
  {
   "cell_type": "markdown",
   "id": "ff9275d7",
   "metadata": {
    "papermill": {
     "duration": null,
     "end_time": null,
     "exception": null,
     "start_time": null,
     "status": "pending"
    },
    "tags": []
   },
   "source": [
    "# <font color = 'redd'>Water Quality Prediction:<font color = 'black'>"
   ]
  },
  {
   "cell_type": "markdown",
   "id": "7a10b934",
   "metadata": {
    "papermill": {
     "duration": null,
     "end_time": null,
     "exception": null,
     "start_time": null,
     "status": "pending"
    },
    "tags": []
   },
   "source": [
    "# 1. KNN Algorithm"
   ]
  },
  {
   "cell_type": "code",
   "execution_count": null,
   "id": "6d1e85b4",
   "metadata": {
    "execution": {
     "iopub.execute_input": "2022-09-17T20:06:20.730296Z",
     "iopub.status.busy": "2022-09-17T20:06:20.729941Z",
     "iopub.status.idle": "2022-09-17T20:06:20.741016Z",
     "shell.execute_reply": "2022-09-17T20:06:20.739831Z",
     "shell.execute_reply.started": "2022-09-17T20:06:20.730263Z"
    },
    "papermill": {
     "duration": null,
     "end_time": null,
     "exception": null,
     "start_time": null,
     "status": "pending"
    },
    "tags": []
   },
   "outputs": [],
   "source": [
    "#df cols\n",
    "x = pd.DataFrame(df, columns = ['ph', 'Hardness', 'Solids', 'Chloramines', 'Sulfate', 'Conductivity',\n",
    "                                'Organic_carbon', 'Trihalomethanes', 'Turbidity', 'Potability']).values\n",
    "y = df['Potability'].values.reshape(-1, 1) #Target variable\n",
    "x"
   ]
  },
  {
   "cell_type": "code",
   "execution_count": null,
   "id": "36bf35b5",
   "metadata": {
    "execution": {
     "iopub.execute_input": "2022-09-17T20:06:20.742838Z",
     "iopub.status.busy": "2022-09-17T20:06:20.742363Z",
     "iopub.status.idle": "2022-09-17T20:06:20.750119Z",
     "shell.execute_reply": "2022-09-17T20:06:20.748791Z",
     "shell.execute_reply.started": "2022-09-17T20:06:20.742795Z"
    },
    "papermill": {
     "duration": null,
     "end_time": null,
     "exception": null,
     "start_time": null,
     "status": "pending"
    },
    "tags": []
   },
   "outputs": [],
   "source": [
    "# Splitting the dataset into the Training set and Test set\n",
    "x_train, x_test, y_train, y_test = train_test_split(x, y, test_size = 0.35, random_state = 0)"
   ]
  },
  {
   "cell_type": "code",
   "execution_count": null,
   "id": "a9b1d52d",
   "metadata": {
    "execution": {
     "iopub.execute_input": "2022-09-17T20:06:20.752411Z",
     "iopub.status.busy": "2022-09-17T20:06:20.751653Z",
     "iopub.status.idle": "2022-09-17T20:06:20.795682Z",
     "shell.execute_reply": "2022-09-17T20:06:20.794684Z",
     "shell.execute_reply.started": "2022-09-17T20:06:20.752366Z"
    },
    "papermill": {
     "duration": null,
     "end_time": null,
     "exception": null,
     "start_time": null,
     "status": "pending"
    },
    "tags": []
   },
   "outputs": [],
   "source": [
    "K = 5\n",
    "clf = KNeighborsClassifier(K)\n",
    "clf.fit(x_train, y_train.ravel())\n",
    "y_pred = clf.predict(x_test)"
   ]
  },
  {
   "cell_type": "code",
   "execution_count": null,
   "id": "9fb1aed8",
   "metadata": {
    "execution": {
     "iopub.execute_input": "2022-09-17T20:06:20.801056Z",
     "iopub.status.busy": "2022-09-17T20:06:20.800675Z",
     "iopub.status.idle": "2022-09-17T20:06:20.807756Z",
     "shell.execute_reply": "2022-09-17T20:06:20.80647Z",
     "shell.execute_reply.started": "2022-09-17T20:06:20.801022Z"
    },
    "papermill": {
     "duration": null,
     "end_time": null,
     "exception": null,
     "start_time": null,
     "status": "pending"
    },
    "tags": []
   },
   "outputs": [],
   "source": [
    "print(\"Accuracy : \", metrics.accuracy_score(y_test, y_pred))"
   ]
  },
  {
   "cell_type": "markdown",
   "id": "114d2e00",
   "metadata": {
    "papermill": {
     "duration": null,
     "end_time": null,
     "exception": null,
     "start_time": null,
     "status": "pending"
    },
    "tags": []
   },
   "source": [
    "## Creat a For loop to find optimal K"
   ]
  },
  {
   "cell_type": "code",
   "execution_count": null,
   "id": "a46801d2",
   "metadata": {
    "execution": {
     "iopub.execute_input": "2022-09-17T20:06:20.810102Z",
     "iopub.status.busy": "2022-09-17T20:06:20.809412Z",
     "iopub.status.idle": "2022-09-17T20:06:21.560353Z",
     "shell.execute_reply": "2022-09-17T20:06:21.559083Z",
     "shell.execute_reply.started": "2022-09-17T20:06:20.810056Z"
    },
    "papermill": {
     "duration": null,
     "end_time": null,
     "exception": null,
     "start_time": null,
     "status": "pending"
    },
    "tags": []
   },
   "outputs": [],
   "source": [
    "K = 20\n",
    "Acc = np.zeros((K))\n",
    "for i in range(1, K+1):\n",
    "    clf = KNeighborsClassifier(n_neighbors = i)\n",
    "    clf.fit(x_train, y_train.ravel())\n",
    "    y_pred = clf.predict(x_test)\n",
    "    Acc[i-1] = metrics.accuracy_score(y_test, y_pred)\n",
    "Acc"
   ]
  },
  {
   "cell_type": "code",
   "execution_count": null,
   "id": "d5a73f91",
   "metadata": {
    "execution": {
     "iopub.execute_input": "2022-09-17T20:06:21.562724Z",
     "iopub.status.busy": "2022-09-17T20:06:21.562211Z",
     "iopub.status.idle": "2022-09-17T20:06:21.569314Z",
     "shell.execute_reply": "2022-09-17T20:06:21.568109Z",
     "shell.execute_reply.started": "2022-09-17T20:06:21.562674Z"
    },
    "papermill": {
     "duration": null,
     "end_time": null,
     "exception": null,
     "start_time": null,
     "status": "pending"
    },
    "tags": []
   },
   "outputs": [],
   "source": [
    "print(np.max(Acc))\n",
    "print(np.min(Acc))"
   ]
  },
  {
   "cell_type": "markdown",
   "id": "7aab235b",
   "metadata": {
    "papermill": {
     "duration": null,
     "end_time": null,
     "exception": null,
     "start_time": null,
     "status": "pending"
    },
    "tags": []
   },
   "source": [
    "### try KNN for different k nearest neighbor from 1 to 30 through plotting"
   ]
  },
  {
   "cell_type": "code",
   "execution_count": null,
   "id": "ddc234ce",
   "metadata": {
    "execution": {
     "iopub.execute_input": "2022-09-17T20:06:21.571713Z",
     "iopub.status.busy": "2022-09-17T20:06:21.570734Z",
     "iopub.status.idle": "2022-09-17T20:06:24.715346Z",
     "shell.execute_reply": "2022-09-17T20:06:24.71458Z",
     "shell.execute_reply.started": "2022-09-17T20:06:21.571663Z"
    },
    "papermill": {
     "duration": null,
     "end_time": null,
     "exception": null,
     "start_time": null,
     "status": "pending"
    },
    "tags": []
   },
   "outputs": [],
   "source": [
    "training_acc = []\n",
    "test_acc = []\n",
    "\n",
    "# try KNN for different k nearest neighbor from 1 to 30\n",
    "neighbors_setting = range(1, 30)\n",
    "\n",
    "for n_neighbors in neighbors_setting:\n",
    "    knn = KNeighborsClassifier(n_neighbors = n_neighbors)\n",
    "    knn.fit(x_train, y_train.ravel())\n",
    "    training_acc.append(knn.score(x_train, y_train))\n",
    "    test_acc.append(knn.score(x_test, y_test))\n",
    "plt.plot(neighbors_setting, training_acc, label = 'Accuracy of the training set')\n",
    "plt.plot(neighbors_setting, test_acc, label = 'Accuracy of the test set')\n",
    "plt.ylabel('Accuracy')\n",
    "plt.xlabel('Number of Neighbors')\n",
    "plt.grid(True)\n",
    "plt.legend()\n",
    "plt.show()  "
   ]
  },
  {
   "cell_type": "markdown",
   "id": "5de78976",
   "metadata": {
    "papermill": {
     "duration": null,
     "end_time": null,
     "exception": null,
     "start_time": null,
     "status": "pending"
    },
    "tags": []
   },
   "source": [
    "## <font color = 'redd'>According above codes and plot the optimal K is <font color = 'red'>18<font><font color = 'black'>"
   ]
  },
  {
   "cell_type": "markdown",
   "id": "3a5db0d9",
   "metadata": {
    "papermill": {
     "duration": null,
     "end_time": null,
     "exception": null,
     "start_time": null,
     "status": "pending"
    },
    "tags": []
   },
   "source": [
    "# Improve Model"
   ]
  },
  {
   "cell_type": "markdown",
   "id": "ecb35a1f",
   "metadata": {
    "papermill": {
     "duration": null,
     "end_time": null,
     "exception": null,
     "start_time": null,
     "status": "pending"
    },
    "tags": []
   },
   "source": [
    "#### Apply GridSearchCV to optomize parameters"
   ]
  },
  {
   "cell_type": "code",
   "execution_count": null,
   "id": "95e28ef0",
   "metadata": {
    "execution": {
     "iopub.execute_input": "2022-09-17T20:06:24.717657Z",
     "iopub.status.busy": "2022-09-17T20:06:24.716946Z",
     "iopub.status.idle": "2022-09-17T20:06:26.841416Z",
     "shell.execute_reply": "2022-09-17T20:06:26.840263Z",
     "shell.execute_reply.started": "2022-09-17T20:06:24.71761Z"
    },
    "papermill": {
     "duration": null,
     "end_time": null,
     "exception": null,
     "start_time": null,
     "status": "pending"
    },
    "tags": []
   },
   "outputs": [],
   "source": [
    "from sklearn.model_selection import GridSearchCV\n",
    "parameters = {'n_neighbors': range(1, 31)}\n",
    "  \n",
    "# defining parameter range\n",
    "grid_kn = GridSearchCV(estimator = knn, # Model\n",
    "                       param_grid = parameters, # Range of K\n",
    "                       scoring='accuracy',  # Evaluation on test set\n",
    "                       cv=5, # Cross Validation\n",
    "                       verbose = 1, # Time to calculate\n",
    "                       n_jobs = -1) # Help to CPU  ====> For big dataset\n",
    "  \n",
    "# fitting the model for grid search\n",
    "grid_kn.fit(x_train, y_train.ravel())"
   ]
  },
  {
   "cell_type": "code",
   "execution_count": null,
   "id": "b7baa319",
   "metadata": {
    "execution": {
     "iopub.execute_input": "2022-09-17T20:06:26.84547Z",
     "iopub.status.busy": "2022-09-17T20:06:26.844159Z",
     "iopub.status.idle": "2022-09-17T20:06:26.853782Z",
     "shell.execute_reply": "2022-09-17T20:06:26.85256Z",
     "shell.execute_reply.started": "2022-09-17T20:06:26.845413Z"
    },
    "papermill": {
     "duration": null,
     "end_time": null,
     "exception": null,
     "start_time": null,
     "status": "pending"
    },
    "tags": []
   },
   "outputs": [],
   "source": [
    "grid_kn.best_params_"
   ]
  },
  {
   "cell_type": "code",
   "execution_count": null,
   "id": "39c1d45b",
   "metadata": {
    "execution": {
     "iopub.execute_input": "2022-09-17T20:06:26.855889Z",
     "iopub.status.busy": "2022-09-17T20:06:26.855491Z",
     "iopub.status.idle": "2022-09-17T20:06:26.86304Z",
     "shell.execute_reply": "2022-09-17T20:06:26.861999Z",
     "shell.execute_reply.started": "2022-09-17T20:06:26.855857Z"
    },
    "papermill": {
     "duration": null,
     "end_time": null,
     "exception": null,
     "start_time": null,
     "status": "pending"
    },
    "tags": []
   },
   "outputs": [],
   "source": [
    "grid_kn.best_score_"
   ]
  },
  {
   "cell_type": "markdown",
   "id": "a19471ef",
   "metadata": {
    "papermill": {
     "duration": null,
     "end_time": null,
     "exception": null,
     "start_time": null,
     "status": "pending"
    },
    "tags": []
   },
   "source": [
    "#### Using GridSearchCV is not a good help here!!!"
   ]
  },
  {
   "cell_type": "markdown",
   "id": "907cc3b8",
   "metadata": {
    "papermill": {
     "duration": null,
     "end_time": null,
     "exception": null,
     "start_time": null,
     "status": "pending"
    },
    "tags": []
   },
   "source": [
    " > <font color='red'> **Then we can say that the best value k is 18.** <font>\n",
    "  *   Accuracy of model at K=18 is  0.62 "
   ]
  }
 ],
 "metadata": {
  "kernelspec": {
   "display_name": "Python 3",
   "language": "python",
   "name": "python3"
  },
  "language_info": {
   "codemirror_mode": {
    "name": "ipython",
    "version": 3
   },
   "file_extension": ".py",
   "mimetype": "text/x-python",
   "name": "python",
   "nbconvert_exporter": "python",
   "pygments_lexer": "ipython3",
   "version": "3.7.12"
  },
  "papermill": {
   "default_parameters": {},
   "duration": 12.701092,
   "end_time": "2022-11-03T07:48:52.011800",
   "environment_variables": {},
   "exception": true,
   "input_path": "__notebook__.ipynb",
   "output_path": "__notebook__.ipynb",
   "parameters": {},
   "start_time": "2022-11-03T07:48:39.310708",
   "version": "2.3.4"
  }
 },
 "nbformat": 4,
 "nbformat_minor": 5
}
